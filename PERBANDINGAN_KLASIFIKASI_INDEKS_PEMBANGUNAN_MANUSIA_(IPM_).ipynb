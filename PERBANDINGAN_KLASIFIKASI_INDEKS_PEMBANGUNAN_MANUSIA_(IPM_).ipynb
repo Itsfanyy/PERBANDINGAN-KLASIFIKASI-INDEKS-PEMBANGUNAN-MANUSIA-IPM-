{
  "nbformat": 4,
  "nbformat_minor": 0,
  "metadata": {
    "colab": {
      "provenance": []
    },
    "kernelspec": {
      "name": "python3",
      "display_name": "Python 3"
    },
    "language_info": {
      "name": "python"
    }
  },
  "cells": [
    {
      "cell_type": "markdown",
      "source": [
        "NAMA : FANISA NIMASTITI\n",
        "\n",
        "NIM : 20110004"
      ],
      "metadata": {
        "id": "DHtcb9B5J2nC"
      }
    },
    {
      "cell_type": "code",
      "execution_count": null,
      "metadata": {
        "colab": {
          "base_uri": "https://localhost:8080/"
        },
        "id": "MP_PcQTX2zHc",
        "outputId": "1e4855d0-ac33-4fd3-8fff-139ae6583bd4"
      },
      "outputs": [
        {
          "output_type": "stream",
          "name": "stdout",
          "text": [
            "Mounted at /content/drive\n"
          ]
        }
      ],
      "source": [
        "from google.colab import drive\n",
        "drive.mount(\"/content/drive\")"
      ]
    },
    {
      "cell_type": "markdown",
      "source": [
        "**Problem Scope**\n",
        "\n",
        "Pembangunan merupakan suatu upaya yang dilakukan oleh pemerintah . indikator yang dapat digunakan untuk mengukur hasil pembangunan adalah Indeks Pembangunan Manusia (IPM). IPM menjelaskan bagaimana penduduk dapat mengakses hasil pembangunan dala memperoleh pendapatan, kesehatan, pendidikan, dan sebagainya. Dengan adanya pembangunan tersebut diharapkan taraf hidup masyarakat menjadi lebih sejahtera sehingga kualitas sumber daya manusia menjadi lebih baik. Akan tetapi, Indonesia sendiri memiliki kualitas sumber daya manusia yang bervariasi. Hal tersebut dikarenakan terdapat tidak meratanya pembangunan maka dari itu perlu adanya klasifikasi IPM. Pada project kali  ini metode yang digunakan adalah Random Forest ,Adaboost , dan Decision Tree yang bertujuan untuk membandingkan akurasi klasifikasi Indeks Pembangunan Manusia (IPM) di indonesia.\n",
        "\n",
        "\n",
        "\n",
        "\n",
        "\n"
      ],
      "metadata": {
        "id": "AmkexDm9KKnL"
      }
    },
    {
      "cell_type": "code",
      "source": [
        "#Import library\n",
        "import pandas as pd\n",
        "import numpy as np\n",
        "import seaborn as sns\n",
        "import matplotlib.pyplot as plt\n",
        "from sklearn import preprocessing\n",
        "from sklearn.model_selection import train_test_split\n",
        "from sklearn.metrics import confusion_matrix\n",
        "from sklearn import metrics\n",
        "from sklearn.metrics import classification_report"
      ],
      "metadata": {
        "id": "DmH64RFA4It-"
      },
      "execution_count": null,
      "outputs": []
    },
    {
      "cell_type": "code",
      "source": [
        "#Load Dataset\n",
        "a = pd.read_csv(\"/content/drive/My Drive/dataset/IPM.csv\")"
      ],
      "metadata": {
        "id": "xZ6xMNdH49Rf"
      },
      "execution_count": null,
      "outputs": []
    },
    {
      "cell_type": "markdown",
      "source": [],
      "metadata": {
        "id": "yEjVWgwfKbRs"
      }
    },
    {
      "cell_type": "markdown",
      "source": [
        "**About Dataset**\n",
        "\n",
        "Data yang digunakan pada project adalah data sekunder yang diperoleh dari Badan Pusat Statistik (BPS). Dimana data yang digunakan, yaitu Indeks Pembangunan Manusia (IPM), Harapan Lama Sekolah, Pengeluaran Perkapita, Rerata Lama Sekolah, dan Usia Harapan Hidup ,yang terdiri atas 2196 baris × 5 kolom\n"
      ],
      "metadata": {
        "id": "naiiYACmKbVV"
      }
    },
    {
      "cell_type": "markdown",
      "source": [
        "EDA"
      ],
      "metadata": {
        "id": "RSDmUHKFBhtt"
      }
    },
    {
      "cell_type": "code",
      "source": [
        "a"
      ],
      "metadata": {
        "colab": {
          "base_uri": "https://localhost:8080/",
          "height": 424
        },
        "id": "tWiiLpjP4-Rq",
        "outputId": "d8c836d1-2316-4050-8b79-654c1ee1d9be"
      },
      "execution_count": null,
      "outputs": [
        {
          "output_type": "execute_result",
          "data": {
            "text/plain": [
              "      Harapan_Lama_Sekolah  Pengeluaran_Perkapita  Rerata_Lama_Sekolah  \\\n",
              "0                    14.36                   9572                 9.37   \n",
              "1                    13.90                   7148                 9.48   \n",
              "2                    14.32                   8776                 8.68   \n",
              "3                    14.60                   8180                 8.88   \n",
              "4                    14.01                   8030                 9.67   \n",
              "...                    ...                    ...                  ...   \n",
              "2191                 10.13                   5522                 4.91   \n",
              "2192                  7.11                   5440                 2.51   \n",
              "2193                  9.79                   4761                 2.99   \n",
              "2194                 14.99                  14922                11.30   \n",
              "2195                 12.91                  11059                 8.17   \n",
              "\n",
              "      Usia_Harapan_Hidup     IPM  \n",
              "0                  69.96    High  \n",
              "1                  65.28  Normal  \n",
              "2                  67.43  Normal  \n",
              "3                  64.40  Normal  \n",
              "4                  68.22  Normal  \n",
              "...                  ...     ...  \n",
              "2191               65.32     Low  \n",
              "2192               65.26     Low  \n",
              "2193               64.83     Low  \n",
              "2194               70.15    High  \n",
              "2195               71.20    High  \n",
              "\n",
              "[2196 rows x 5 columns]"
            ],
            "text/html": [
              "\n",
              "  <div id=\"df-633f0360-81a6-4c8d-8b89-aafa505f0218\">\n",
              "    <div class=\"colab-df-container\">\n",
              "      <div>\n",
              "<style scoped>\n",
              "    .dataframe tbody tr th:only-of-type {\n",
              "        vertical-align: middle;\n",
              "    }\n",
              "\n",
              "    .dataframe tbody tr th {\n",
              "        vertical-align: top;\n",
              "    }\n",
              "\n",
              "    .dataframe thead th {\n",
              "        text-align: right;\n",
              "    }\n",
              "</style>\n",
              "<table border=\"1\" class=\"dataframe\">\n",
              "  <thead>\n",
              "    <tr style=\"text-align: right;\">\n",
              "      <th></th>\n",
              "      <th>Harapan_Lama_Sekolah</th>\n",
              "      <th>Pengeluaran_Perkapita</th>\n",
              "      <th>Rerata_Lama_Sekolah</th>\n",
              "      <th>Usia_Harapan_Hidup</th>\n",
              "      <th>IPM</th>\n",
              "    </tr>\n",
              "  </thead>\n",
              "  <tbody>\n",
              "    <tr>\n",
              "      <th>0</th>\n",
              "      <td>14.36</td>\n",
              "      <td>9572</td>\n",
              "      <td>9.37</td>\n",
              "      <td>69.96</td>\n",
              "      <td>High</td>\n",
              "    </tr>\n",
              "    <tr>\n",
              "      <th>1</th>\n",
              "      <td>13.90</td>\n",
              "      <td>7148</td>\n",
              "      <td>9.48</td>\n",
              "      <td>65.28</td>\n",
              "      <td>Normal</td>\n",
              "    </tr>\n",
              "    <tr>\n",
              "      <th>2</th>\n",
              "      <td>14.32</td>\n",
              "      <td>8776</td>\n",
              "      <td>8.68</td>\n",
              "      <td>67.43</td>\n",
              "      <td>Normal</td>\n",
              "    </tr>\n",
              "    <tr>\n",
              "      <th>3</th>\n",
              "      <td>14.60</td>\n",
              "      <td>8180</td>\n",
              "      <td>8.88</td>\n",
              "      <td>64.40</td>\n",
              "      <td>Normal</td>\n",
              "    </tr>\n",
              "    <tr>\n",
              "      <th>4</th>\n",
              "      <td>14.01</td>\n",
              "      <td>8030</td>\n",
              "      <td>9.67</td>\n",
              "      <td>68.22</td>\n",
              "      <td>Normal</td>\n",
              "    </tr>\n",
              "    <tr>\n",
              "      <th>...</th>\n",
              "      <td>...</td>\n",
              "      <td>...</td>\n",
              "      <td>...</td>\n",
              "      <td>...</td>\n",
              "      <td>...</td>\n",
              "    </tr>\n",
              "    <tr>\n",
              "      <th>2191</th>\n",
              "      <td>10.13</td>\n",
              "      <td>5522</td>\n",
              "      <td>4.91</td>\n",
              "      <td>65.32</td>\n",
              "      <td>Low</td>\n",
              "    </tr>\n",
              "    <tr>\n",
              "      <th>2192</th>\n",
              "      <td>7.11</td>\n",
              "      <td>5440</td>\n",
              "      <td>2.51</td>\n",
              "      <td>65.26</td>\n",
              "      <td>Low</td>\n",
              "    </tr>\n",
              "    <tr>\n",
              "      <th>2193</th>\n",
              "      <td>9.79</td>\n",
              "      <td>4761</td>\n",
              "      <td>2.99</td>\n",
              "      <td>64.83</td>\n",
              "      <td>Low</td>\n",
              "    </tr>\n",
              "    <tr>\n",
              "      <th>2194</th>\n",
              "      <td>14.99</td>\n",
              "      <td>14922</td>\n",
              "      <td>11.30</td>\n",
              "      <td>70.15</td>\n",
              "      <td>High</td>\n",
              "    </tr>\n",
              "    <tr>\n",
              "      <th>2195</th>\n",
              "      <td>12.91</td>\n",
              "      <td>11059</td>\n",
              "      <td>8.17</td>\n",
              "      <td>71.20</td>\n",
              "      <td>High</td>\n",
              "    </tr>\n",
              "  </tbody>\n",
              "</table>\n",
              "<p>2196 rows × 5 columns</p>\n",
              "</div>\n",
              "      <button class=\"colab-df-convert\" onclick=\"convertToInteractive('df-633f0360-81a6-4c8d-8b89-aafa505f0218')\"\n",
              "              title=\"Convert this dataframe to an interactive table.\"\n",
              "              style=\"display:none;\">\n",
              "        \n",
              "  <svg xmlns=\"http://www.w3.org/2000/svg\" height=\"24px\"viewBox=\"0 0 24 24\"\n",
              "       width=\"24px\">\n",
              "    <path d=\"M0 0h24v24H0V0z\" fill=\"none\"/>\n",
              "    <path d=\"M18.56 5.44l.94 2.06.94-2.06 2.06-.94-2.06-.94-.94-2.06-.94 2.06-2.06.94zm-11 1L8.5 8.5l.94-2.06 2.06-.94-2.06-.94L8.5 2.5l-.94 2.06-2.06.94zm10 10l.94 2.06.94-2.06 2.06-.94-2.06-.94-.94-2.06-.94 2.06-2.06.94z\"/><path d=\"M17.41 7.96l-1.37-1.37c-.4-.4-.92-.59-1.43-.59-.52 0-1.04.2-1.43.59L10.3 9.45l-7.72 7.72c-.78.78-.78 2.05 0 2.83L4 21.41c.39.39.9.59 1.41.59.51 0 1.02-.2 1.41-.59l7.78-7.78 2.81-2.81c.8-.78.8-2.07 0-2.86zM5.41 20L4 18.59l7.72-7.72 1.47 1.35L5.41 20z\"/>\n",
              "  </svg>\n",
              "      </button>\n",
              "      \n",
              "  <style>\n",
              "    .colab-df-container {\n",
              "      display:flex;\n",
              "      flex-wrap:wrap;\n",
              "      gap: 12px;\n",
              "    }\n",
              "\n",
              "    .colab-df-convert {\n",
              "      background-color: #E8F0FE;\n",
              "      border: none;\n",
              "      border-radius: 50%;\n",
              "      cursor: pointer;\n",
              "      display: none;\n",
              "      fill: #1967D2;\n",
              "      height: 32px;\n",
              "      padding: 0 0 0 0;\n",
              "      width: 32px;\n",
              "    }\n",
              "\n",
              "    .colab-df-convert:hover {\n",
              "      background-color: #E2EBFA;\n",
              "      box-shadow: 0px 1px 2px rgba(60, 64, 67, 0.3), 0px 1px 3px 1px rgba(60, 64, 67, 0.15);\n",
              "      fill: #174EA6;\n",
              "    }\n",
              "\n",
              "    [theme=dark] .colab-df-convert {\n",
              "      background-color: #3B4455;\n",
              "      fill: #D2E3FC;\n",
              "    }\n",
              "\n",
              "    [theme=dark] .colab-df-convert:hover {\n",
              "      background-color: #434B5C;\n",
              "      box-shadow: 0px 1px 3px 1px rgba(0, 0, 0, 0.15);\n",
              "      filter: drop-shadow(0px 1px 2px rgba(0, 0, 0, 0.3));\n",
              "      fill: #FFFFFF;\n",
              "    }\n",
              "  </style>\n",
              "\n",
              "      <script>\n",
              "        const buttonEl =\n",
              "          document.querySelector('#df-633f0360-81a6-4c8d-8b89-aafa505f0218 button.colab-df-convert');\n",
              "        buttonEl.style.display =\n",
              "          google.colab.kernel.accessAllowed ? 'block' : 'none';\n",
              "\n",
              "        async function convertToInteractive(key) {\n",
              "          const element = document.querySelector('#df-633f0360-81a6-4c8d-8b89-aafa505f0218');\n",
              "          const dataTable =\n",
              "            await google.colab.kernel.invokeFunction('convertToInteractive',\n",
              "                                                     [key], {});\n",
              "          if (!dataTable) return;\n",
              "\n",
              "          const docLinkHtml = 'Like what you see? Visit the ' +\n",
              "            '<a target=\"_blank\" href=https://colab.research.google.com/notebooks/data_table.ipynb>data table notebook</a>'\n",
              "            + ' to learn more about interactive tables.';\n",
              "          element.innerHTML = '';\n",
              "          dataTable['output_type'] = 'display_data';\n",
              "          await google.colab.output.renderOutput(dataTable, element);\n",
              "          const docLink = document.createElement('div');\n",
              "          docLink.innerHTML = docLinkHtml;\n",
              "          element.appendChild(docLink);\n",
              "        }\n",
              "      </script>\n",
              "    </div>\n",
              "  </div>\n",
              "  "
            ]
          },
          "metadata": {},
          "execution_count": 4
        }
      ]
    },
    {
      "cell_type": "code",
      "source": [
        "a.shape"
      ],
      "metadata": {
        "colab": {
          "base_uri": "https://localhost:8080/"
        },
        "id": "ZyCb_QyzBlAm",
        "outputId": "4339292f-b681-4b11-bce6-c15b13875618"
      },
      "execution_count": null,
      "outputs": [
        {
          "output_type": "execute_result",
          "data": {
            "text/plain": [
              "(2196, 5)"
            ]
          },
          "metadata": {},
          "execution_count": 143
        }
      ]
    },
    {
      "cell_type": "code",
      "source": [
        "#Untuk mengetahui data duplikat\n",
        "a.duplicated().sum()"
      ],
      "metadata": {
        "colab": {
          "base_uri": "https://localhost:8080/"
        },
        "id": "f80YGl66BqOQ",
        "outputId": "b6b2a57d-970b-4f97-b560-44b83ac1cf81"
      },
      "execution_count": null,
      "outputs": [
        {
          "output_type": "execute_result",
          "data": {
            "text/plain": [
              "0"
            ]
          },
          "metadata": {},
          "execution_count": 144
        }
      ]
    },
    {
      "cell_type": "code",
      "source": [
        "#mengetahui informasi umum dataset\n",
        "a.info()"
      ],
      "metadata": {
        "id": "1X_KyN9h7zUR",
        "colab": {
          "base_uri": "https://localhost:8080/"
        },
        "outputId": "9750ee58-5f2e-46f3-cc32-15d3119b5536"
      },
      "execution_count": null,
      "outputs": [
        {
          "output_type": "stream",
          "name": "stdout",
          "text": [
            "<class 'pandas.core.frame.DataFrame'>\n",
            "RangeIndex: 2196 entries, 0 to 2195\n",
            "Data columns (total 5 columns):\n",
            " #   Column                 Non-Null Count  Dtype  \n",
            "---  ------                 --------------  -----  \n",
            " 0   Harapan_Lama_Sekolah   2196 non-null   float64\n",
            " 1   Pengeluaran_Perkapita  2196 non-null   int64  \n",
            " 2   Rerata_Lama_Sekolah    2196 non-null   float64\n",
            " 3   Usia_Harapan_Hidup     2196 non-null   float64\n",
            " 4   IPM                    2196 non-null   object \n",
            "dtypes: float64(3), int64(1), object(1)\n",
            "memory usage: 85.9+ KB\n"
          ]
        }
      ]
    },
    {
      "cell_type": "code",
      "source": [
        "a.describe()"
      ],
      "metadata": {
        "colab": {
          "base_uri": "https://localhost:8080/",
          "height": 300
        },
        "id": "ei6q0UFjCZ6o",
        "outputId": "2746da83-dc9a-4be7-811c-7d28a5107350"
      },
      "execution_count": null,
      "outputs": [
        {
          "output_type": "execute_result",
          "data": {
            "text/plain": [
              "       Harapan_Lama_Sekolah  Pengeluaran_Perkapita  Rerata_Lama_Sekolah  \\\n",
              "count           2196.000000            2196.000000          2196.000000   \n",
              "mean              12.931498           10323.144353             8.291585   \n",
              "std                1.312967            2664.738311             1.611256   \n",
              "min                2.950000            3975.000000             0.850000   \n",
              "25%               12.350000            8599.750000             7.390000   \n",
              "50%               12.860000           10192.500000             8.180000   \n",
              "75%               13.570000           11670.500000             9.180000   \n",
              "max               17.800000           23888.000000            12.830000   \n",
              "\n",
              "       Usia_Harapan_Hidup  \n",
              "count         2196.000000  \n",
              "mean            69.467418  \n",
              "std              3.437536  \n",
              "min             54.820000  \n",
              "25%             67.210000  \n",
              "50%             69.785000  \n",
              "75%             71.712500  \n",
              "max             77.730000  "
            ],
            "text/html": [
              "\n",
              "  <div id=\"df-b17b4a00-bba6-4ef0-9606-964624149628\">\n",
              "    <div class=\"colab-df-container\">\n",
              "      <div>\n",
              "<style scoped>\n",
              "    .dataframe tbody tr th:only-of-type {\n",
              "        vertical-align: middle;\n",
              "    }\n",
              "\n",
              "    .dataframe tbody tr th {\n",
              "        vertical-align: top;\n",
              "    }\n",
              "\n",
              "    .dataframe thead th {\n",
              "        text-align: right;\n",
              "    }\n",
              "</style>\n",
              "<table border=\"1\" class=\"dataframe\">\n",
              "  <thead>\n",
              "    <tr style=\"text-align: right;\">\n",
              "      <th></th>\n",
              "      <th>Harapan_Lama_Sekolah</th>\n",
              "      <th>Pengeluaran_Perkapita</th>\n",
              "      <th>Rerata_Lama_Sekolah</th>\n",
              "      <th>Usia_Harapan_Hidup</th>\n",
              "    </tr>\n",
              "  </thead>\n",
              "  <tbody>\n",
              "    <tr>\n",
              "      <th>count</th>\n",
              "      <td>2196.000000</td>\n",
              "      <td>2196.000000</td>\n",
              "      <td>2196.000000</td>\n",
              "      <td>2196.000000</td>\n",
              "    </tr>\n",
              "    <tr>\n",
              "      <th>mean</th>\n",
              "      <td>12.931498</td>\n",
              "      <td>10323.144353</td>\n",
              "      <td>8.291585</td>\n",
              "      <td>69.467418</td>\n",
              "    </tr>\n",
              "    <tr>\n",
              "      <th>std</th>\n",
              "      <td>1.312967</td>\n",
              "      <td>2664.738311</td>\n",
              "      <td>1.611256</td>\n",
              "      <td>3.437536</td>\n",
              "    </tr>\n",
              "    <tr>\n",
              "      <th>min</th>\n",
              "      <td>2.950000</td>\n",
              "      <td>3975.000000</td>\n",
              "      <td>0.850000</td>\n",
              "      <td>54.820000</td>\n",
              "    </tr>\n",
              "    <tr>\n",
              "      <th>25%</th>\n",
              "      <td>12.350000</td>\n",
              "      <td>8599.750000</td>\n",
              "      <td>7.390000</td>\n",
              "      <td>67.210000</td>\n",
              "    </tr>\n",
              "    <tr>\n",
              "      <th>50%</th>\n",
              "      <td>12.860000</td>\n",
              "      <td>10192.500000</td>\n",
              "      <td>8.180000</td>\n",
              "      <td>69.785000</td>\n",
              "    </tr>\n",
              "    <tr>\n",
              "      <th>75%</th>\n",
              "      <td>13.570000</td>\n",
              "      <td>11670.500000</td>\n",
              "      <td>9.180000</td>\n",
              "      <td>71.712500</td>\n",
              "    </tr>\n",
              "    <tr>\n",
              "      <th>max</th>\n",
              "      <td>17.800000</td>\n",
              "      <td>23888.000000</td>\n",
              "      <td>12.830000</td>\n",
              "      <td>77.730000</td>\n",
              "    </tr>\n",
              "  </tbody>\n",
              "</table>\n",
              "</div>\n",
              "      <button class=\"colab-df-convert\" onclick=\"convertToInteractive('df-b17b4a00-bba6-4ef0-9606-964624149628')\"\n",
              "              title=\"Convert this dataframe to an interactive table.\"\n",
              "              style=\"display:none;\">\n",
              "        \n",
              "  <svg xmlns=\"http://www.w3.org/2000/svg\" height=\"24px\"viewBox=\"0 0 24 24\"\n",
              "       width=\"24px\">\n",
              "    <path d=\"M0 0h24v24H0V0z\" fill=\"none\"/>\n",
              "    <path d=\"M18.56 5.44l.94 2.06.94-2.06 2.06-.94-2.06-.94-.94-2.06-.94 2.06-2.06.94zm-11 1L8.5 8.5l.94-2.06 2.06-.94-2.06-.94L8.5 2.5l-.94 2.06-2.06.94zm10 10l.94 2.06.94-2.06 2.06-.94-2.06-.94-.94-2.06-.94 2.06-2.06.94z\"/><path d=\"M17.41 7.96l-1.37-1.37c-.4-.4-.92-.59-1.43-.59-.52 0-1.04.2-1.43.59L10.3 9.45l-7.72 7.72c-.78.78-.78 2.05 0 2.83L4 21.41c.39.39.9.59 1.41.59.51 0 1.02-.2 1.41-.59l7.78-7.78 2.81-2.81c.8-.78.8-2.07 0-2.86zM5.41 20L4 18.59l7.72-7.72 1.47 1.35L5.41 20z\"/>\n",
              "  </svg>\n",
              "      </button>\n",
              "      \n",
              "  <style>\n",
              "    .colab-df-container {\n",
              "      display:flex;\n",
              "      flex-wrap:wrap;\n",
              "      gap: 12px;\n",
              "    }\n",
              "\n",
              "    .colab-df-convert {\n",
              "      background-color: #E8F0FE;\n",
              "      border: none;\n",
              "      border-radius: 50%;\n",
              "      cursor: pointer;\n",
              "      display: none;\n",
              "      fill: #1967D2;\n",
              "      height: 32px;\n",
              "      padding: 0 0 0 0;\n",
              "      width: 32px;\n",
              "    }\n",
              "\n",
              "    .colab-df-convert:hover {\n",
              "      background-color: #E2EBFA;\n",
              "      box-shadow: 0px 1px 2px rgba(60, 64, 67, 0.3), 0px 1px 3px 1px rgba(60, 64, 67, 0.15);\n",
              "      fill: #174EA6;\n",
              "    }\n",
              "\n",
              "    [theme=dark] .colab-df-convert {\n",
              "      background-color: #3B4455;\n",
              "      fill: #D2E3FC;\n",
              "    }\n",
              "\n",
              "    [theme=dark] .colab-df-convert:hover {\n",
              "      background-color: #434B5C;\n",
              "      box-shadow: 0px 1px 3px 1px rgba(0, 0, 0, 0.15);\n",
              "      filter: drop-shadow(0px 1px 2px rgba(0, 0, 0, 0.3));\n",
              "      fill: #FFFFFF;\n",
              "    }\n",
              "  </style>\n",
              "\n",
              "      <script>\n",
              "        const buttonEl =\n",
              "          document.querySelector('#df-b17b4a00-bba6-4ef0-9606-964624149628 button.colab-df-convert');\n",
              "        buttonEl.style.display =\n",
              "          google.colab.kernel.accessAllowed ? 'block' : 'none';\n",
              "\n",
              "        async function convertToInteractive(key) {\n",
              "          const element = document.querySelector('#df-b17b4a00-bba6-4ef0-9606-964624149628');\n",
              "          const dataTable =\n",
              "            await google.colab.kernel.invokeFunction('convertToInteractive',\n",
              "                                                     [key], {});\n",
              "          if (!dataTable) return;\n",
              "\n",
              "          const docLinkHtml = 'Like what you see? Visit the ' +\n",
              "            '<a target=\"_blank\" href=https://colab.research.google.com/notebooks/data_table.ipynb>data table notebook</a>'\n",
              "            + ' to learn more about interactive tables.';\n",
              "          element.innerHTML = '';\n",
              "          dataTable['output_type'] = 'display_data';\n",
              "          await google.colab.output.renderOutput(dataTable, element);\n",
              "          const docLink = document.createElement('div');\n",
              "          docLink.innerHTML = docLinkHtml;\n",
              "          element.appendChild(docLink);\n",
              "        }\n",
              "      </script>\n",
              "    </div>\n",
              "  </div>\n",
              "  "
            ]
          },
          "metadata": {},
          "execution_count": 146
        }
      ]
    },
    {
      "cell_type": "code",
      "source": [
        "a['IPM'].unique()"
      ],
      "metadata": {
        "colab": {
          "base_uri": "https://localhost:8080/"
        },
        "id": "6uYlYzGm-GjV",
        "outputId": "5cdf54d3-597c-4304-90c1-aec2a3c539f1"
      },
      "execution_count": null,
      "outputs": [
        {
          "output_type": "execute_result",
          "data": {
            "text/plain": [
              "array(['High', 'Normal', 'Very-High', 'Low'], dtype=object)"
            ]
          },
          "metadata": {},
          "execution_count": 147
        }
      ]
    },
    {
      "cell_type": "code",
      "source": [
        "b = a['IPM'].value_counts()\n",
        "b"
      ],
      "metadata": {
        "colab": {
          "base_uri": "https://localhost:8080/"
        },
        "id": "iueeb5kvDPts",
        "outputId": "28db5713-4f4b-44d7-fb3d-0f9bee9ef858"
      },
      "execution_count": null,
      "outputs": [
        {
          "output_type": "execute_result",
          "data": {
            "text/plain": [
              "Normal       1128\n",
              "High          829\n",
              "Very-High     146\n",
              "Low            93\n",
              "Name: IPM, dtype: int64"
            ]
          },
          "metadata": {},
          "execution_count": 148
        }
      ]
    },
    {
      "cell_type": "code",
      "source": [
        "# creating the dataset\n",
        "data = {'Normal/2': 1128, ' High/0':829, 'Very-High/3':146,\n",
        "        'Low/1':93}\n",
        "courses = list(data.keys())\n",
        "values = list(data.values())\n",
        "  \n",
        "fig = plt.figure(figsize = (10, 5))\n",
        " \n",
        "# creating the bar plot\n",
        "plt.bar(courses, values, color ='maroon',\n",
        "        width = 0.4)\n",
        " \n",
        "plt.xlabel(\"IPM Kategory\")\n",
        "plt.ylabel(\"Total\")\n",
        "plt.title(\"Jumlah total per Kategori IPM\")\n",
        "plt.show()"
      ],
      "metadata": {
        "colab": {
          "base_uri": "https://localhost:8080/",
          "height": 350
        },
        "id": "XjSR5unMEcxQ",
        "outputId": "95a612d2-93ed-4f3d-f7c4-d8cb39b0bcf8"
      },
      "execution_count": null,
      "outputs": [
        {
          "output_type": "display_data",
          "data": {
            "text/plain": [
              "<Figure size 720x360 with 1 Axes>"
            ],
            "image/png": "[encoded data removed]"
          },
          "metadata": {
            "needs_background": "light"
          }
        }
      ]
    },
    {
      "cell_type": "markdown",
      "source": [
        "DATA PREPROCESSING"
      ],
      "metadata": {
        "id": "yeZmfMem9p5F"
      }
    },
    {
      "cell_type": "code",
      "source": [
        "le = preprocessing.LabelEncoder()\n",
        "a[\"IPM\"] = le.fit_transform(a[\"IPM\"])\n",
        "a[\"IPM\"].unique()"
      ],
      "metadata": {
        "colab": {
          "base_uri": "https://localhost:8080/"
        },
        "id": "FC6_cjGe8O08",
        "outputId": "e7952119-fb03-4b30-8172-0360002bd7ac"
      },
      "execution_count": null,
      "outputs": [
        {
          "output_type": "execute_result",
          "data": {
            "text/plain": [
              "array([0, 2, 3, 1])"
            ]
          },
          "metadata": {},
          "execution_count": 5
        }
      ]
    },
    {
      "cell_type": "code",
      "source": [
        "a"
      ],
      "metadata": {
        "colab": {
          "base_uri": "https://localhost:8080/",
          "height": 424
        },
        "id": "OBdni2LV-ylb",
        "outputId": "a23ed60b-1aca-40a4-9fa7-47e0cca58028"
      },
      "execution_count": null,
      "outputs": [
        {
          "output_type": "execute_result",
          "data": {
            "text/plain": [
              "      Harapan_Lama_Sekolah  Pengeluaran_Perkapita  Rerata_Lama_Sekolah  \\\n",
              "0                    14.36                   9572                 9.37   \n",
              "1                    13.90                   7148                 9.48   \n",
              "2                    14.32                   8776                 8.68   \n",
              "3                    14.60                   8180                 8.88   \n",
              "4                    14.01                   8030                 9.67   \n",
              "...                    ...                    ...                  ...   \n",
              "2191                 10.13                   5522                 4.91   \n",
              "2192                  7.11                   5440                 2.51   \n",
              "2193                  9.79                   4761                 2.99   \n",
              "2194                 14.99                  14922                11.30   \n",
              "2195                 12.91                  11059                 8.17   \n",
              "\n",
              "      Usia_Harapan_Hidup  IPM  \n",
              "0                  69.96    0  \n",
              "1                  65.28    2  \n",
              "2                  67.43    2  \n",
              "3                  64.40    2  \n",
              "4                  68.22    2  \n",
              "...                  ...  ...  \n",
              "2191               65.32    1  \n",
              "2192               65.26    1  \n",
              "2193               64.83    1  \n",
              "2194               70.15    0  \n",
              "2195               71.20    0  \n",
              "\n",
              "[2196 rows x 5 columns]"
            ],
            "text/html": [
              "\n",
              "  <div id=\"df-9f688080-4482-4c54-b944-2fba340839f5\">\n",
              "    <div class=\"colab-df-container\">\n",
              "      <div>\n",
              "<style scoped>\n",
              "    .dataframe tbody tr th:only-of-type {\n",
              "        vertical-align: middle;\n",
              "    }\n",
              "\n",
              "    .dataframe tbody tr th {\n",
              "        vertical-align: top;\n",
              "    }\n",
              "\n",
              "    .dataframe thead th {\n",
              "        text-align: right;\n",
              "    }\n",
              "</style>\n",
              "<table border=\"1\" class=\"dataframe\">\n",
              "  <thead>\n",
              "    <tr style=\"text-align: right;\">\n",
              "      <th></th>\n",
              "      <th>Harapan_Lama_Sekolah</th>\n",
              "      <th>Pengeluaran_Perkapita</th>\n",
              "      <th>Rerata_Lama_Sekolah</th>\n",
              "      <th>Usia_Harapan_Hidup</th>\n",
              "      <th>IPM</th>\n",
              "    </tr>\n",
              "  </thead>\n",
              "  <tbody>\n",
              "    <tr>\n",
              "      <th>0</th>\n",
              "      <td>14.36</td>\n",
              "      <td>9572</td>\n",
              "      <td>9.37</td>\n",
              "      <td>69.96</td>\n",
              "      <td>0</td>\n",
              "    </tr>\n",
              "    <tr>\n",
              "      <th>1</th>\n",
              "      <td>13.90</td>\n",
              "      <td>7148</td>\n",
              "      <td>9.48</td>\n",
              "      <td>65.28</td>\n",
              "      <td>2</td>\n",
              "    </tr>\n",
              "    <tr>\n",
              "      <th>2</th>\n",
              "      <td>14.32</td>\n",
              "      <td>8776</td>\n",
              "      <td>8.68</td>\n",
              "      <td>67.43</td>\n",
              "      <td>2</td>\n",
              "    </tr>\n",
              "    <tr>\n",
              "      <th>3</th>\n",
              "      <td>14.60</td>\n",
              "      <td>8180</td>\n",
              "      <td>8.88</td>\n",
              "      <td>64.40</td>\n",
              "      <td>2</td>\n",
              "    </tr>\n",
              "    <tr>\n",
              "      <th>4</th>\n",
              "      <td>14.01</td>\n",
              "      <td>8030</td>\n",
              "      <td>9.67</td>\n",
              "      <td>68.22</td>\n",
              "      <td>2</td>\n",
              "    </tr>\n",
              "    <tr>\n",
              "      <th>...</th>\n",
              "      <td>...</td>\n",
              "      <td>...</td>\n",
              "      <td>...</td>\n",
              "      <td>...</td>\n",
              "      <td>...</td>\n",
              "    </tr>\n",
              "    <tr>\n",
              "      <th>2191</th>\n",
              "      <td>10.13</td>\n",
              "      <td>5522</td>\n",
              "      <td>4.91</td>\n",
              "      <td>65.32</td>\n",
              "      <td>1</td>\n",
              "    </tr>\n",
              "    <tr>\n",
              "      <th>2192</th>\n",
              "      <td>7.11</td>\n",
              "      <td>5440</td>\n",
              "      <td>2.51</td>\n",
              "      <td>65.26</td>\n",
              "      <td>1</td>\n",
              "    </tr>\n",
              "    <tr>\n",
              "      <th>2193</th>\n",
              "      <td>9.79</td>\n",
              "      <td>4761</td>\n",
              "      <td>2.99</td>\n",
              "      <td>64.83</td>\n",
              "      <td>1</td>\n",
              "    </tr>\n",
              "    <tr>\n",
              "      <th>2194</th>\n",
              "      <td>14.99</td>\n",
              "      <td>14922</td>\n",
              "      <td>11.30</td>\n",
              "      <td>70.15</td>\n",
              "      <td>0</td>\n",
              "    </tr>\n",
              "    <tr>\n",
              "      <th>2195</th>\n",
              "      <td>12.91</td>\n",
              "      <td>11059</td>\n",
              "      <td>8.17</td>\n",
              "      <td>71.20</td>\n",
              "      <td>0</td>\n",
              "    </tr>\n",
              "  </tbody>\n",
              "</table>\n",
              "<p>2196 rows × 5 columns</p>\n",
              "</div>\n",
              "      <button class=\"colab-df-convert\" onclick=\"convertToInteractive('df-9f688080-4482-4c54-b944-2fba340839f5')\"\n",
              "              title=\"Convert this dataframe to an interactive table.\"\n",
              "              style=\"display:none;\">\n",
              "        \n",
              "  <svg xmlns=\"http://www.w3.org/2000/svg\" height=\"24px\"viewBox=\"0 0 24 24\"\n",
              "       width=\"24px\">\n",
              "    <path d=\"M0 0h24v24H0V0z\" fill=\"none\"/>\n",
              "    <path d=\"M18.56 5.44l.94 2.06.94-2.06 2.06-.94-2.06-.94-.94-2.06-.94 2.06-2.06.94zm-11 1L8.5 8.5l.94-2.06 2.06-.94-2.06-.94L8.5 2.5l-.94 2.06-2.06.94zm10 10l.94 2.06.94-2.06 2.06-.94-2.06-.94-.94-2.06-.94 2.06-2.06.94z\"/><path d=\"M17.41 7.96l-1.37-1.37c-.4-.4-.92-.59-1.43-.59-.52 0-1.04.2-1.43.59L10.3 9.45l-7.72 7.72c-.78.78-.78 2.05 0 2.83L4 21.41c.39.39.9.59 1.41.59.51 0 1.02-.2 1.41-.59l7.78-7.78 2.81-2.81c.8-.78.8-2.07 0-2.86zM5.41 20L4 18.59l7.72-7.72 1.47 1.35L5.41 20z\"/>\n",
              "  </svg>\n",
              "      </button>\n",
              "      \n",
              "  <style>\n",
              "    .colab-df-container {\n",
              "      display:flex;\n",
              "      flex-wrap:wrap;\n",
              "      gap: 12px;\n",
              "    }\n",
              "\n",
              "    .colab-df-convert {\n",
              "      background-color: #E8F0FE;\n",
              "      border: none;\n",
              "      border-radius: 50%;\n",
              "      cursor: pointer;\n",
              "      display: none;\n",
              "      fill: #1967D2;\n",
              "      height: 32px;\n",
              "      padding: 0 0 0 0;\n",
              "      width: 32px;\n",
              "    }\n",
              "\n",
              "    .colab-df-convert:hover {\n",
              "      background-color: #E2EBFA;\n",
              "      box-shadow: 0px 1px 2px rgba(60, 64, 67, 0.3), 0px 1px 3px 1px rgba(60, 64, 67, 0.15);\n",
              "      fill: #174EA6;\n",
              "    }\n",
              "\n",
              "    [theme=dark] .colab-df-convert {\n",
              "      background-color: #3B4455;\n",
              "      fill: #D2E3FC;\n",
              "    }\n",
              "\n",
              "    [theme=dark] .colab-df-convert:hover {\n",
              "      background-color: #434B5C;\n",
              "      box-shadow: 0px 1px 3px 1px rgba(0, 0, 0, 0.15);\n",
              "      filter: drop-shadow(0px 1px 2px rgba(0, 0, 0, 0.3));\n",
              "      fill: #FFFFFF;\n",
              "    }\n",
              "  </style>\n",
              "\n",
              "      <script>\n",
              "        const buttonEl =\n",
              "          document.querySelector('#df-9f688080-4482-4c54-b944-2fba340839f5 button.colab-df-convert');\n",
              "        buttonEl.style.display =\n",
              "          google.colab.kernel.accessAllowed ? 'block' : 'none';\n",
              "\n",
              "        async function convertToInteractive(key) {\n",
              "          const element = document.querySelector('#df-9f688080-4482-4c54-b944-2fba340839f5');\n",
              "          const dataTable =\n",
              "            await google.colab.kernel.invokeFunction('convertToInteractive',\n",
              "                                                     [key], {});\n",
              "          if (!dataTable) return;\n",
              "\n",
              "          const docLinkHtml = 'Like what you see? Visit the ' +\n",
              "            '<a target=\"_blank\" href=https://colab.research.google.com/notebooks/data_table.ipynb>data table notebook</a>'\n",
              "            + ' to learn more about interactive tables.';\n",
              "          element.innerHTML = '';\n",
              "          dataTable['output_type'] = 'display_data';\n",
              "          await google.colab.output.renderOutput(dataTable, element);\n",
              "          const docLink = document.createElement('div');\n",
              "          docLink.innerHTML = docLinkHtml;\n",
              "          element.appendChild(docLink);\n",
              "        }\n",
              "      </script>\n",
              "    </div>\n",
              "  </div>\n",
              "  "
            ]
          },
          "metadata": {},
          "execution_count": 6
        }
      ]
    },
    {
      "cell_type": "code",
      "source": [
        "a.corr()"
      ],
      "metadata": {
        "colab": {
          "base_uri": "https://localhost:8080/",
          "height": 206
        },
        "id": "ap2SjYmS_A93",
        "outputId": "f658d3b6-3622-4222-ba42-f031ef4f91a8"
      },
      "execution_count": null,
      "outputs": [
        {
          "output_type": "execute_result",
          "data": {
            "text/plain": [
              "                       Harapan_Lama_Sekolah  Pengeluaran_Perkapita  \\\n",
              "Harapan_Lama_Sekolah               1.000000               0.518389   \n",
              "Pengeluaran_Perkapita              0.518389               1.000000   \n",
              "Rerata_Lama_Sekolah                0.774683               0.667975   \n",
              "Usia_Harapan_Hidup                 0.379314               0.562290   \n",
              "IPM                               -0.058479              -0.135206   \n",
              "\n",
              "                       Rerata_Lama_Sekolah  Usia_Harapan_Hidup       IPM  \n",
              "Harapan_Lama_Sekolah              0.774683            0.379314 -0.058479  \n",
              "Pengeluaran_Perkapita             0.667975            0.562290 -0.135206  \n",
              "Rerata_Lama_Sekolah               1.000000            0.420824 -0.146664  \n",
              "Usia_Harapan_Hidup                0.420824            1.000000 -0.240056  \n",
              "IPM                              -0.146664           -0.240056  1.000000  "
            ],
            "text/html": [
              "\n",
              "  <div id=\"df-099e8cf8-31eb-41f7-bb19-99c158adbfa6\">\n",
              "    <div class=\"colab-df-container\">\n",
              "      <div>\n",
              "<style scoped>\n",
              "    .dataframe tbody tr th:only-of-type {\n",
              "        vertical-align: middle;\n",
              "    }\n",
              "\n",
              "    .dataframe tbody tr th {\n",
              "        vertical-align: top;\n",
              "    }\n",
              "\n",
              "    .dataframe thead th {\n",
              "        text-align: right;\n",
              "    }\n",
              "</style>\n",
              "<table border=\"1\" class=\"dataframe\">\n",
              "  <thead>\n",
              "    <tr style=\"text-align: right;\">\n",
              "      <th></th>\n",
              "      <th>Harapan_Lama_Sekolah</th>\n",
              "      <th>Pengeluaran_Perkapita</th>\n",
              "      <th>Rerata_Lama_Sekolah</th>\n",
              "      <th>Usia_Harapan_Hidup</th>\n",
              "      <th>IPM</th>\n",
              "    </tr>\n",
              "  </thead>\n",
              "  <tbody>\n",
              "    <tr>\n",
              "      <th>Harapan_Lama_Sekolah</th>\n",
              "      <td>1.000000</td>\n",
              "      <td>0.518389</td>\n",
              "      <td>0.774683</td>\n",
              "      <td>0.379314</td>\n",
              "      <td>-0.058479</td>\n",
              "    </tr>\n",
              "    <tr>\n",
              "      <th>Pengeluaran_Perkapita</th>\n",
              "      <td>0.518389</td>\n",
              "      <td>1.000000</td>\n",
              "      <td>0.667975</td>\n",
              "      <td>0.562290</td>\n",
              "      <td>-0.135206</td>\n",
              "    </tr>\n",
              "    <tr>\n",
              "      <th>Rerata_Lama_Sekolah</th>\n",
              "      <td>0.774683</td>\n",
              "      <td>0.667975</td>\n",
              "      <td>1.000000</td>\n",
              "      <td>0.420824</td>\n",
              "      <td>-0.146664</td>\n",
              "    </tr>\n",
              "    <tr>\n",
              "      <th>Usia_Harapan_Hidup</th>\n",
              "      <td>0.379314</td>\n",
              "      <td>0.562290</td>\n",
              "      <td>0.420824</td>\n",
              "      <td>1.000000</td>\n",
              "      <td>-0.240056</td>\n",
              "    </tr>\n",
              "    <tr>\n",
              "      <th>IPM</th>\n",
              "      <td>-0.058479</td>\n",
              "      <td>-0.135206</td>\n",
              "      <td>-0.146664</td>\n",
              "      <td>-0.240056</td>\n",
              "      <td>1.000000</td>\n",
              "    </tr>\n",
              "  </tbody>\n",
              "</table>\n",
              "</div>\n",
              "      <button class=\"colab-df-convert\" onclick=\"convertToInteractive('df-099e8cf8-31eb-41f7-bb19-99c158adbfa6')\"\n",
              "              title=\"Convert this dataframe to an interactive table.\"\n",
              "              style=\"display:none;\">\n",
              "        \n",
              "  <svg xmlns=\"http://www.w3.org/2000/svg\" height=\"24px\"viewBox=\"0 0 24 24\"\n",
              "       width=\"24px\">\n",
              "    <path d=\"M0 0h24v24H0V0z\" fill=\"none\"/>\n",
              "    <path d=\"M18.56 5.44l.94 2.06.94-2.06 2.06-.94-2.06-.94-.94-2.06-.94 2.06-2.06.94zm-11 1L8.5 8.5l.94-2.06 2.06-.94-2.06-.94L8.5 2.5l-.94 2.06-2.06.94zm10 10l.94 2.06.94-2.06 2.06-.94-2.06-.94-.94-2.06-.94 2.06-2.06.94z\"/><path d=\"M17.41 7.96l-1.37-1.37c-.4-.4-.92-.59-1.43-.59-.52 0-1.04.2-1.43.59L10.3 9.45l-7.72 7.72c-.78.78-.78 2.05 0 2.83L4 21.41c.39.39.9.59 1.41.59.51 0 1.02-.2 1.41-.59l7.78-7.78 2.81-2.81c.8-.78.8-2.07 0-2.86zM5.41 20L4 18.59l7.72-7.72 1.47 1.35L5.41 20z\"/>\n",
              "  </svg>\n",
              "      </button>\n",
              "      \n",
              "  <style>\n",
              "    .colab-df-container {\n",
              "      display:flex;\n",
              "      flex-wrap:wrap;\n",
              "      gap: 12px;\n",
              "    }\n",
              "\n",
              "    .colab-df-convert {\n",
              "      background-color: #E8F0FE;\n",
              "      border: none;\n",
              "      border-radius: 50%;\n",
              "      cursor: pointer;\n",
              "      display: none;\n",
              "      fill: #1967D2;\n",
              "      height: 32px;\n",
              "      padding: 0 0 0 0;\n",
              "      width: 32px;\n",
              "    }\n",
              "\n",
              "    .colab-df-convert:hover {\n",
              "      background-color: #E2EBFA;\n",
              "      box-shadow: 0px 1px 2px rgba(60, 64, 67, 0.3), 0px 1px 3px 1px rgba(60, 64, 67, 0.15);\n",
              "      fill: #174EA6;\n",
              "    }\n",
              "\n",
              "    [theme=dark] .colab-df-convert {\n",
              "      background-color: #3B4455;\n",
              "      fill: #D2E3FC;\n",
              "    }\n",
              "\n",
              "    [theme=dark] .colab-df-convert:hover {\n",
              "      background-color: #434B5C;\n",
              "      box-shadow: 0px 1px 3px 1px rgba(0, 0, 0, 0.15);\n",
              "      filter: drop-shadow(0px 1px 2px rgba(0, 0, 0, 0.3));\n",
              "      fill: #FFFFFF;\n",
              "    }\n",
              "  </style>\n",
              "\n",
              "      <script>\n",
              "        const buttonEl =\n",
              "          document.querySelector('#df-099e8cf8-31eb-41f7-bb19-99c158adbfa6 button.colab-df-convert');\n",
              "        buttonEl.style.display =\n",
              "          google.colab.kernel.accessAllowed ? 'block' : 'none';\n",
              "\n",
              "        async function convertToInteractive(key) {\n",
              "          const element = document.querySelector('#df-099e8cf8-31eb-41f7-bb19-99c158adbfa6');\n",
              "          const dataTable =\n",
              "            await google.colab.kernel.invokeFunction('convertToInteractive',\n",
              "                                                     [key], {});\n",
              "          if (!dataTable) return;\n",
              "\n",
              "          const docLinkHtml = 'Like what you see? Visit the ' +\n",
              "            '<a target=\"_blank\" href=https://colab.research.google.com/notebooks/data_table.ipynb>data table notebook</a>'\n",
              "            + ' to learn more about interactive tables.';\n",
              "          element.innerHTML = '';\n",
              "          dataTable['output_type'] = 'display_data';\n",
              "          await google.colab.output.renderOutput(dataTable, element);\n",
              "          const docLink = document.createElement('div');\n",
              "          docLink.innerHTML = docLinkHtml;\n",
              "          element.appendChild(docLink);\n",
              "        }\n",
              "      </script>\n",
              "    </div>\n",
              "  </div>\n",
              "  "
            ]
          },
          "metadata": {},
          "execution_count": 152
        }
      ]
    },
    {
      "cell_type": "code",
      "source": [
        "# Increase the size of the heatmap.\n",
        "plt.figure(figsize=(16, 6))\n",
        "# Store heatmap object in a variable to easily access it when you want to include more features (such as title).\n",
        "# Set the range of values to be displayed on the colormap from -1 to 1, and set the annotation to True to display the correlation values on the heatmap.\n",
        "heatmap = sns.heatmap(a.corr(), vmin=-1, vmax=1, annot=True)\n",
        "# Give a title to the heatmap. Pad defines the distance of the title from the top of the heatmap.\n",
        "heatmap.set_title('Correlation Heatmap', fontdict={'fontsize':12}, pad=12);"
      ],
      "metadata": {
        "colab": {
          "base_uri": "https://localhost:8080/",
          "height": 397
        },
        "id": "X4KeFvrWKnHr",
        "outputId": "fa290986-1129-4c62-ccf7-d52a2445d49b"
      },
      "execution_count": null,
      "outputs": [
        {
          "output_type": "display_data",
          "data": {
            "text/plain": [
              "<Figure size 1152x432 with 2 Axes>"
            ],
            "image/png": "[encoded data removed]"
          },
          "metadata": {
            "needs_background": "light"
          }
        }
      ]
    },
    {
      "cell_type": "code",
      "source": [
        "#Mendefinisikan variabel X dan Y\n",
        "X = a.drop(['IPM'],axis = 1)\n",
        "y = a['IPM']"
      ],
      "metadata": {
        "id": "fGAmrbd3Ep3I"
      },
      "execution_count": null,
      "outputs": []
    },
    {
      "cell_type": "code",
      "source": [
        "#Membagi dataset menjadi data training dan testing dengan rasio 20% data digunakan sebagai data testing. Dengan pemilihan random data sebesar 42.\n",
        "X_train, X_test, y_train, y_test = train_test_split(X, y, test_size = 0.20, random_state = 42)\n",
        "X_train.shape, X_test.shape"
      ],
      "metadata": {
        "colab": {
          "base_uri": "https://localhost:8080/"
        },
        "id": "r0-ZjMicEykP",
        "outputId": "b7db8464-5b5c-4617-8935-3cace55c4967"
      },
      "execution_count": null,
      "outputs": [
        {
          "output_type": "execute_result",
          "data": {
            "text/plain": [
              "((1756, 4), (440, 4))"
            ]
          },
          "metadata": {},
          "execution_count": 10
        }
      ]
    },
    {
      "cell_type": "code",
      "source": [
        "nblc = y_train.value_counts()\n",
        "nblc"
      ],
      "metadata": {
        "colab": {
          "base_uri": "https://localhost:8080/"
        },
        "id": "gU0BAT7dBqxj",
        "outputId": "1ac84dfd-f17b-418f-cd25-838f817168f0"
      },
      "execution_count": null,
      "outputs": [
        {
          "output_type": "execute_result",
          "data": {
            "text/plain": [
              "2    901\n",
              "0    665\n",
              "3    113\n",
              "1     77\n",
              "Name: IPM, dtype: int64"
            ]
          },
          "metadata": {},
          "execution_count": 15
        }
      ]
    },
    {
      "cell_type": "code",
      "source": [
        "# creating the dataset\n",
        "data = {'Normal/2': 901, ' High/0': 665, 'Very-High/3': 113,\n",
        "        'Low/1': 77}\n",
        "courses = list(data.keys())\n",
        "values = list(data.values())\n",
        "  \n",
        "fig = plt.figure(figsize = (10, 5))\n",
        " \n",
        "# creating the bar plot\n",
        "plt.bar(courses, values, color ='maroon',\n",
        "        width = 0.4)\n",
        " \n",
        "plt.xlabel(\"IPM Kategory\")\n",
        "plt.ylabel(\"Total\")\n",
        "plt.title(\"Jumlah total per Kategori IPM\")\n",
        "plt.show()"
      ],
      "metadata": {
        "colab": {
          "base_uri": "https://localhost:8080/",
          "height": 350
        },
        "id": "gb4KMvgEC0E1",
        "outputId": "a9322e8c-2ff2-4135-9ae0-6eb4c4191474"
      },
      "execution_count": null,
      "outputs": [
        {
          "output_type": "display_data",
          "data": {
            "text/plain": [
              "<Figure size 720x360 with 1 Axes>"
            ],
            "image/png": "[encoded data removed]"
          },
          "metadata": {
            "needs_background": "light"
          }
        }
      ]
    },
    {
      "cell_type": "code",
      "source": [
        "#BALANCING DATASET\n",
        "from imblearn.over_sampling import SMOTE\n",
        "# define oversampling strategy\n",
        "SMOTE = SMOTE()\n",
        "\n",
        "# fit and apply the transform\n",
        "X_train_SMOTE, y_train_SMOTE = SMOTE.fit_resample(X_train, y_train)"
      ],
      "metadata": {
        "id": "YpA4rvPILR0F"
      },
      "execution_count": null,
      "outputs": []
    },
    {
      "cell_type": "code",
      "source": [
        "blc = y_train_SMOTE.value_counts()\n",
        "blc"
      ],
      "metadata": {
        "colab": {
          "base_uri": "https://localhost:8080/"
        },
        "id": "kXJiVyTtVV7W",
        "outputId": "059d05e2-9157-4737-dff8-7ebd51f8caf4"
      },
      "execution_count": null,
      "outputs": [
        {
          "output_type": "execute_result",
          "data": {
            "text/plain": [
              "2    901\n",
              "0    901\n",
              "3    901\n",
              "1    901\n",
              "Name: IPM, dtype: int64"
            ]
          },
          "metadata": {},
          "execution_count": 13
        }
      ]
    },
    {
      "cell_type": "code",
      "source": [
        "# creating the dataset\n",
        "data = {'Normal/2': 901, ' High/0': 901, 'Very-High/3': 901,\n",
        "        'Low/1': 901}\n",
        "courses = list(data.keys())\n",
        "values = list(data.values())\n",
        "  \n",
        "fig = plt.figure(figsize = (10, 5))\n",
        " \n",
        "# creating the bar plot\n",
        "plt.bar(courses, values, color ='maroon',\n",
        "        width = 0.4)\n",
        " \n",
        "plt.xlabel(\"IPM Kategory\")\n",
        "plt.ylabel(\"Total\")\n",
        "plt.title(\"Jumlah total per Kategori IPM\")\n",
        "plt.show()"
      ],
      "metadata": {
        "colab": {
          "base_uri": "https://localhost:8080/",
          "height": 350
        },
        "id": "pD1Bi5M3AuDA",
        "outputId": "55788096-9761-4be7-b012-24c05683fdca"
      },
      "execution_count": null,
      "outputs": [
        {
          "output_type": "display_data",
          "data": {
            "text/plain": [
              "<Figure size 720x360 with 1 Axes>"
            ],
            "image/png": "[encoded data removed]"
          },
          "metadata": {
            "needs_background": "light"
          }
        }
      ]
    },
    {
      "cell_type": "markdown",
      "source": [
        "**MODELLING**"
      ],
      "metadata": {
        "id": "BYs4x4bhEFw4"
      }
    },
    {
      "cell_type": "markdown",
      "source": [
        "MODEL 1 Random Forest"
      ],
      "metadata": {
        "id": "iiSdHoReFVoM"
      }
    },
    {
      "cell_type": "code",
      "source": [
        "# MODEL\n",
        "#Membuat model random forest dengan banyak tree dalam forest adalah 10 serta untuk mengukur kualitas split menggunakan entropi untuk perolehan infomasi\n",
        "from sklearn.ensemble import RandomForestClassifier\n",
        "classifier_rf2 = RandomForestClassifier(n_estimators=10, criterion=\"gini\")\n",
        "classifier_rf2.fit(X_train_SMOTE, y_train_SMOTE)"
      ],
      "metadata": {
        "colab": {
          "base_uri": "https://localhost:8080/"
        },
        "id": "s00CnIJ0HHtO",
        "outputId": "d2ead13c-0311-45d5-d292-ebf6e37522fc"
      },
      "execution_count": null,
      "outputs": [
        {
          "output_type": "execute_result",
          "data": {
            "text/plain": [
              "RandomForestClassifier(n_estimators=10)"
            ]
          },
          "metadata": {},
          "execution_count": 158
        }
      ]
    },
    {
      "cell_type": "code",
      "source": [
        "#Memperoleh nilai y prediksi dari variabel-variabel X data testing\n",
        "y_pred = classifier_rf2.predict(X_test)"
      ],
      "metadata": {
        "id": "a2S4QQ5uHOxB"
      },
      "execution_count": null,
      "outputs": []
    },
    {
      "cell_type": "code",
      "source": [
        "#Menampilkan nilai akurasi untuk prediksi di data training\n",
        "print('Training-set accuracy score:', classifier_rf2.score(X_train_SMOTE, y_train_SMOTE))\n",
        "#Menampilkan nilai akurasi untuk prediksi di data testing\n",
        "print('Test-set accuracy score:', classifier_rf2.score(X_test, y_test))"
      ],
      "metadata": {
        "colab": {
          "base_uri": "https://localhost:8080/"
        },
        "id": "A5IPdd9dHTsJ",
        "outputId": "0d70ef2a-94b5-49c9-ef72-245cc5a856ba"
      },
      "execution_count": null,
      "outputs": [
        {
          "output_type": "stream",
          "name": "stdout",
          "text": [
            "Training-set accuracy score: 0.9997225305216426\n",
            "Test-set accuracy score: 0.9681818181818181\n"
          ]
        }
      ]
    },
    {
      "cell_type": "code",
      "source": [
        "print(classification_report(y_test, y_pred))"
      ],
      "metadata": {
        "colab": {
          "base_uri": "https://localhost:8080/"
        },
        "id": "3CmQNRpFW8XD",
        "outputId": "c907a63a-d298-491c-9282-d7c25a4f510f"
      },
      "execution_count": null,
      "outputs": [
        {
          "output_type": "stream",
          "name": "stdout",
          "text": [
            "              precision    recall  f1-score   support\n",
            "\n",
            "           0       0.94      0.98      0.96       164\n",
            "           1       0.94      1.00      0.97        16\n",
            "           2       1.00      0.96      0.98       227\n",
            "           3       0.94      0.97      0.96        33\n",
            "\n",
            "    accuracy                           0.97       440\n",
            "   macro avg       0.95      0.98      0.97       440\n",
            "weighted avg       0.97      0.97      0.97       440\n",
            "\n"
          ]
        }
      ]
    },
    {
      "cell_type": "code",
      "source": [
        "import matplotlib.pyplot as plt\n",
        "import numpy\n",
        "from sklearn import metrics\n",
        "\n",
        "\n",
        "confusion_matrix = metrics.confusion_matrix(y_test, y_pred)\n",
        "\n",
        "cm_display = metrics.ConfusionMatrixDisplay(confusion_matrix = confusion_matrix, display_labels = [\"High\",\"Low\",\"Normal\",\"Very-High\" ])\n",
        "\n",
        "cm_display.plot()\n",
        "plt.show()"
      ],
      "metadata": {
        "colab": {
          "base_uri": "https://localhost:8080/",
          "height": 279
        },
        "id": "q10a4fvYRN9b",
        "outputId": "4f98dc04-ab2f-4a2b-8197-1edc13582084"
      },
      "execution_count": null,
      "outputs": [
        {
          "output_type": "display_data",
          "data": {
            "text/plain": [
              "<Figure size 432x288 with 2 Axes>"
            ],
            "image/png": "[encoded data removed]"
          },
          "metadata": {
            "needs_background": "light"
          }
        }
      ]
    },
    {
      "cell_type": "markdown",
      "source": [
        "MODEL 2 ADABOOST"
      ],
      "metadata": {
        "id": "hni7KdmKHxUR"
      }
    },
    {
      "cell_type": "code",
      "source": [
        "# --- Applying AdaBoost ---\n",
        "from sklearn.ensemble import AdaBoostClassifier\n",
        "ABclassifier = AdaBoostClassifier(n_estimators=100)\n",
        "\n",
        "ABclassifier.fit(X_train_SMOTE, y_train_SMOTE)\n",
        "y_pred_AB = ABclassifier.predict(X_test)"
      ],
      "metadata": {
        "id": "k6Ty9Rp5HWrh"
      },
      "execution_count": null,
      "outputs": []
    },
    {
      "cell_type": "code",
      "source": [
        "#Menampilkan nilai akurasi untuk prediksi di data training\n",
        "print('Training-set accuracy score:', ABclassifier.score(X_train_SMOTE, y_train_SMOTE))\n",
        "#Menampilkan nilai akurasi untuk prediksi di data testing\n",
        "print('Testing-set accuracy score:', ABclassifier.score(X_test, y_test))"
      ],
      "metadata": {
        "colab": {
          "base_uri": "https://localhost:8080/"
        },
        "id": "ODjp-iAuH6cC",
        "outputId": "4bc93265-fd82-4692-9f2a-90595d7d520d"
      },
      "execution_count": null,
      "outputs": [
        {
          "output_type": "stream",
          "name": "stdout",
          "text": [
            "Training-set accuracy score: 0.3995560488346282\n",
            "Testing-set accuracy score: 0.10454545454545454\n"
          ]
        }
      ]
    },
    {
      "cell_type": "code",
      "source": [
        "print(classification_report(y_test, y_pred_AB))"
      ],
      "metadata": {
        "colab": {
          "base_uri": "https://localhost:8080/"
        },
        "id": "HCghY52Zdv4A",
        "outputId": "11112ab1-2a25-40f3-98b2-ec719692ac5a"
      },
      "execution_count": null,
      "outputs": [
        {
          "output_type": "stream",
          "name": "stdout",
          "text": [
            "              precision    recall  f1-score   support\n",
            "\n",
            "           0       0.46      0.12      0.19       164\n",
            "           1       0.04      1.00      0.08        16\n",
            "           2       0.00      0.00      0.00       227\n",
            "           3       0.69      0.33      0.45        33\n",
            "\n",
            "    accuracy                           0.10       440\n",
            "   macro avg       0.30      0.36      0.18       440\n",
            "weighted avg       0.23      0.10      0.11       440\n",
            "\n"
          ]
        },
        {
          "output_type": "stream",
          "name": "stderr",
          "text": [
            "/usr/local/lib/python3.7/dist-packages/sklearn/metrics/_classification.py:1318: UndefinedMetricWarning: Precision and F-score are ill-defined and being set to 0.0 in labels with no predicted samples. Use `zero_division` parameter to control this behavior.\n",
            "  _warn_prf(average, modifier, msg_start, len(result))\n",
            "/usr/local/lib/python3.7/dist-packages/sklearn/metrics/_classification.py:1318: UndefinedMetricWarning: Precision and F-score are ill-defined and being set to 0.0 in labels with no predicted samples. Use `zero_division` parameter to control this behavior.\n",
            "  _warn_prf(average, modifier, msg_start, len(result))\n",
            "/usr/local/lib/python3.7/dist-packages/sklearn/metrics/_classification.py:1318: UndefinedMetricWarning: Precision and F-score are ill-defined and being set to 0.0 in labels with no predicted samples. Use `zero_division` parameter to control this behavior.\n",
            "  _warn_prf(average, modifier, msg_start, len(result))\n"
          ]
        }
      ]
    },
    {
      "cell_type": "code",
      "source": [
        "import matplotlib.pyplot as plt\n",
        "import numpy\n",
        "from sklearn import metrics\n",
        "\n",
        "\n",
        "confusion_matrix = metrics.confusion_matrix(y_test, y_pred_AB)\n",
        "\n",
        "cm_display = metrics.ConfusionMatrixDisplay(confusion_matrix = confusion_matrix, display_labels = [\"High\",\"Low\",\"Normal\",\"Very-High\" ])\n",
        "\n",
        "cm_display.plot()\n",
        "plt.show()"
      ],
      "metadata": {
        "colab": {
          "base_uri": "https://localhost:8080/",
          "height": 279
        },
        "id": "S_uq8_zFd7C7",
        "outputId": "ef9202fc-e79b-4d23-9270-16466f5c2337"
      },
      "execution_count": null,
      "outputs": [
        {
          "output_type": "display_data",
          "data": {
            "text/plain": [
              "<Figure size 432x288 with 2 Axes>"
            ],
            "image/png": "[encoded data removed]"
          },
          "metadata": {
            "needs_background": "light"
          }
        }
      ]
    },
    {
      "cell_type": "markdown",
      "source": [
        "MODEL 3 DECISSION TREE"
      ],
      "metadata": {
        "id": "h0fCVcQLNWCH"
      }
    },
    {
      "cell_type": "code",
      "source": [
        "#Decission Tree\n",
        "from sklearn.tree import DecisionTreeClassifier\n",
        "clf = DecisionTreeClassifier()\n",
        "y_pred_GB = clf.fit(X_train_SMOTE, y_train_SMOTE).predict(X_test)"
      ],
      "metadata": {
        "id": "SziIEu0OPuEA"
      },
      "execution_count": null,
      "outputs": []
    },
    {
      "cell_type": "code",
      "source": [
        "#Menampilkan nilai akurasi untuk prediksi di data training\n",
        "print('Training-set accuracy score:', clf.score(X_train_SMOTE, y_train_SMOTE))\n",
        "#Menampilkan nilai akurasi untuk prediksi di data testing\n",
        "print('Testing-set accuracy score:', clf.score(X_test, y_test))"
      ],
      "metadata": {
        "colab": {
          "base_uri": "https://localhost:8080/"
        },
        "id": "4sWzqyOeXqaK",
        "outputId": "e3a084d3-f02b-4aae-adf7-14166e9320b7"
      },
      "execution_count": null,
      "outputs": [
        {
          "output_type": "stream",
          "name": "stdout",
          "text": [
            "Training-set accuracy score: 1.0\n",
            "Testing-set accuracy score: 0.9545454545454546\n"
          ]
        }
      ]
    },
    {
      "cell_type": "code",
      "source": [
        "print(classification_report(y_test, y_pred_GB))"
      ],
      "metadata": {
        "colab": {
          "base_uri": "https://localhost:8080/"
        },
        "id": "Yj4JXoB4eVLH",
        "outputId": "baaf752c-fe3e-4e02-c1c4-74b6d88cb92d"
      },
      "execution_count": null,
      "outputs": [
        {
          "output_type": "stream",
          "name": "stdout",
          "text": [
            "              precision    recall  f1-score   support\n",
            "\n",
            "           0       0.92      0.98      0.95       164\n",
            "           1       0.88      0.94      0.91        16\n",
            "           2       0.99      0.93      0.96       227\n",
            "           3       0.94      0.97      0.96        33\n",
            "\n",
            "    accuracy                           0.95       440\n",
            "   macro avg       0.93      0.96      0.94       440\n",
            "weighted avg       0.96      0.95      0.95       440\n",
            "\n"
          ]
        }
      ]
    },
    {
      "cell_type": "code",
      "source": [
        "import matplotlib.pyplot as plt\n",
        "import numpy\n",
        "from sklearn import metrics\n",
        "\n",
        "\n",
        "confusion_matrix = metrics.confusion_matrix(y_test, y_pred_GB)\n",
        "\n",
        "cm_display = metrics.ConfusionMatrixDisplay(confusion_matrix = confusion_matrix, display_labels = [\"High\",\"Low\",\"Normal\",\"Very-High\" ])\n",
        "\n",
        "cm_display.plot()\n",
        "plt.show()"
      ],
      "metadata": {
        "colab": {
          "base_uri": "https://localhost:8080/",
          "height": 279
        },
        "id": "I9YHaBJcYcCH",
        "outputId": "75535cc5-2b70-49ce-d5ea-17477006dcad"
      },
      "execution_count": null,
      "outputs": [
        {
          "output_type": "display_data",
          "data": {
            "text/plain": [
              "<Figure size 432x288 with 2 Axes>"
            ],
            "image/png": "[encoded data removed]"
          },
          "metadata": {
            "needs_background": "light"
          }
        }
      ]
    },
    {
      "cell_type": "markdown",
      "source": [
        "**Kesimpulan**\n",
        "\n",
        "Berdasarkan hasil dan pembahasan di atas, dapat disimpulkan bahwa klasifikasi Indeks Pembangunan Manusia (IPM) dengan menggunakan metode Random forest dengan parameter n_estimators=10, dan criterion=\"gini\" memiliki akurasi sebesar 97 % lebih tinggi dari pada model yang menggunakan Decision Tree yang hanya sampai 95 % . selain itu juga untuk data yang diolah menggunakan AdaBoost meskipun akurasinya mencapai 100 % , namun jika dilihat lebih teliti pada precission , recall , dan f1 score model sangat rendah .maka dari itu dari ketiga model tersebut model Random Forest merupakan model yang cocok digunakan pada dataset kali ini."
      ],
      "metadata": {
        "id": "Poq3geLEK5hu"
      }
    }
  ]
}